{
 "cells": [
  {
   "cell_type": "code",
   "execution_count": 0,
   "metadata": {
    "application/vnd.databricks.v1+cell": {
     "cellMetadata": {},
     "inputWidgets": {},
     "nuid": "321fe079-0912-4863-9aa6-6f71bb53d940",
     "showTitle": false,
     "tableResultSettingsMap": {},
     "title": ""
    }
   },
   "outputs": [],
   "source": [
    "import dlt\n",
    "from pyspark.sql.functions import round\n",
    "from pyspark.sql.types import StructType, StructField, StringType, TimestampType, IntegerType, FloatType\n",
    "\n",
    "# Define schema for consistency\n",
    "schema = StructType([\n",
    "    StructField(\"record_type\", StringType(), True),\n",
    "    StructField(\"author\", StringType(), True),\n",
    "    StructField(\"author_channel_url\", StringType(), True),\n",
    "    StructField(\"author_profile_image_url\", StringType(), True),\n",
    "    StructField(\"date\", TimestampType(), True),\n",
    "    StructField(\"like_count\", IntegerType(), True),\n",
    "    StructField(\"reply_count\", FloatType(), True),\n",
    "    StructField(\"text\", StringType(), True),\n",
    "    StructField(\"video_id\", StringType(), True),\n",
    "    StructField(\"cluster_sentiment\", StringType(), True),\n",
    "    StructField(\"cluster_sentiment_reasoning\", StringType(), True),\n",
    "    StructField(\"id\", StringType(), True),\n",
    "    StructField(\"creator\", StringType(), True),\n",
    "    StructField(\"video_title\", StringType(), True),\n",
    "    StructField(\"video_thumbnail_url\", StringType(), True),\n",
    "    StructField(\"channel_name\", StringType(), True),\n",
    "    StructField(\"ingestion_timestamp\", TimestampType(), True)\n",
    "])\n",
    "\n",
    "# Read bronze table as a streaming source\n",
    "@dlt.table(name=\"bronze_raw_api_data\")\n",
    "def bronze_table():\n",
    "    return spark.readStream.format(\"delta\").table(\"youtube2.bronze.raw_api_data\")\n",
    "\n",
    "# Read bronze volume CSV files as a streaming source\n",
    "@dlt.table(name=\"bronze_volume_data\")\n",
    "def bronze_volume():\n",
    "    return spark.readStream.format(\"csv\").option(\"header\", \"true\").schema(schema).load(\"/Volumes/youtube2/bronze/volume1/*.csv\")\n",
    "\n",
    "# Silver transformation: Union, clean, and enforce schema\n",
    "@dlt.table(\n",
    "    name=\"youtube2.silver.cleaned_api_data\",\n",
    "    comment=\"Silver table with cleaned and unioned data from bronze table and volume\",\n",
    "    table_properties={\"delta.feature.allowColumnDefaults\": \"enabled\"}\n",
    ")\n",
    "def silver_table():\n",
    "    bronze_table_df = dlt.read_stream(\"bronze_raw_api_data\")\n",
    "    bronze_volume_df = dlt.read_stream(\"bronze_volume_data\")\n",
    "    \n",
    "    # Union data using UNION ALL equivalent\n",
    "    unioned_df = bronze_table_df.union(bronze_volume_df)\n",
    "    \n",
    "    # Clean data: Remove nulls from key columns, round reply_count to 2 decimal places\n",
    "    return (unioned_df\n",
    "            .filter(\"record_type IS NOT NULL AND author IS NOT NULL AND date IS NOT NULL AND text IS NOT NULL\")\n",
    "            .withColumn(\"reply_count\", round(\"reply_count\", 2))\n",
    "            .select(\n",
    "                \"record_type\", \"author\", \"author_channel_url\", \"author_profile_image_url\",\n",
    "                \"date\", \"like_count\", \"reply_count\", \"text\", \"video_id\",\n",
    "                \"cluster_sentiment\", \"cluster_sentiment_reasoning\", \"id\",\n",
    "                \"creator\", \"video_title\", \"video_thumbnail_url\", \"channel_name\",\n",
    "                \"ingestion_timestamp\"\n",
    "            ))"
   ]
  }
 ],
 "metadata": {
  "application/vnd.databricks.v1+notebook": {
   "computePreferences": null,
   "dashboards": [],
   "environmentMetadata": {
    "base_environment": "",
    "environment_version": "2"
   },
   "inputWidgetPreferences": null,
   "language": "python",
   "notebookMetadata": {
    "pythonIndentUnit": 4
   },
   "notebookName": "silver_transformation_used_for_dlt_pipeline",
   "widgets": {}
  },
  "language_info": {
   "name": "python"
  }
 },
 "nbformat": 4,
 "nbformat_minor": 0
}