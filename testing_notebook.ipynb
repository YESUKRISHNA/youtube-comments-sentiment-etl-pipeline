{
 "cells": [
  {
   "cell_type": "code",
   "execution_count": 0,
   "metadata": {
    "application/vnd.databricks.v1+cell": {
     "cellMetadata": {
      "byteLimit": 2048000,
      "implicitDf": true,
      "rowLimit": 10000
     },
     "inputWidgets": {},
     "nuid": "17ee488f-b330-48cd-a23f-3b7d455bdf6c",
     "showTitle": false,
     "tableResultSettingsMap": {},
     "title": ""
    }
   },
   "outputs": [
    {
     "output_type": "display_data",
     "data": {
      "text/html": [
       "<style scoped>\n",
       "  .table-result-container {\n",
       "    max-height: 300px;\n",
       "    overflow: auto;\n",
       "  }\n",
       "  table, th, td {\n",
       "    border: 1px solid black;\n",
       "    border-collapse: collapse;\n",
       "  }\n",
       "  th, td {\n",
       "    padding: 5px;\n",
       "  }\n",
       "  th {\n",
       "    text-align: left;\n",
       "  }\n",
       "</style><div class='table-result-container'><table class='table-result'><thead style='background-color: white'><tr><th>record_type</th><th>author</th><th>author_channel_url</th><th>author_profile_image_url</th><th>date</th><th>like_count</th><th>reply_count</th><th>text</th><th>video_id</th><th>cluster_sentiment</th><th>cluster_sentiment_reasoning</th><th>id</th><th>creator</th><th>video_title</th><th>video_thumbnail_url</th><th>channel_name</th><th>ingestion_timestamp</th></tr></thead><tbody><tr><td>reply</td><td>@LeviAckerman-fh1wd</td><td>http://www.youtube.com/@LeviAckerman-fh1wd</td><td>https://yt3.ggpht.com/BiiIPDyjyTV2XRfSIdpM47u8RQSOHkINA1evcdjsxxLN7Q4cFYf7ssK1KIhOtt3o9cKtDYCl=s48-c-k-c0x00ffffff-no-rj</td><td>2021-09-14T06:13:34.000Z</td><td>3</td><td>null</td><td>@@rooneyr9618 her stardom is nowhere close to Srk</td><td>qlSVTM-qX6g</td><td>Positive</td><td>The text states Dua Lipa's stardom is less than SRK's, implying a positive sentiment towards SRK</td><td>6863e9e09084d306bdb9eb78</td><td>MBP Media</td><td>DuaLipa meets SRK</td><td>https://i.ytimg.com/vi/qlSVTM-qX6g/default.jpg</td><td>MBP Media</td><td>2025-07-17T11:20:54.452Z</td></tr><tr><td>reply</td><td>@LeviAckerman-fh1wd</td><td>http://www.youtube.com/@LeviAckerman-fh1wd</td><td>https://yt3.ggpht.com/BiiIPDyjyTV2XRfSIdpM47u8RQSOHkINA1evcdjsxxLN7Q4cFYf7ssK1KIhOtt3o9cKtDYCl=s48-c-k-c0x00ffffff-no-rj</td><td>2021-09-14T06:14:19.000Z</td><td>0</td><td>null</td><td>@@rooneyr9618 LOL Srk was even far more successful at her age \uD83E\uDD23\uD83E\uDD23 she would not even cone close to his success</td><td>qlSVTM-qX6g</td><td>Negative</td><td>The text belittles Dua Lipa's achievements and emphasizes SRK's greater success</td><td>6863e9e09084d306bdb9ebc8</td><td>MBP Media</td><td>DuaLipa meets SRK</td><td>https://i.ytimg.com/vi/qlSVTM-qX6g/default.jpg</td><td>MBP Media</td><td>2025-07-17T11:20:54.452Z</td></tr><tr><td>reply</td><td>@LeviAckerman-fh1wd</td><td>http://www.youtube.com/@LeviAckerman-fh1wd</td><td>https://yt3.ggpht.com/BiiIPDyjyTV2XRfSIdpM47u8RQSOHkINA1evcdjsxxLN7Q4cFYf7ssK1KIhOtt3o9cKtDYCl=s48-c-k-c0x00ffffff-no-rj</td><td>2021-09-14T06:15:01.000Z</td><td>0</td><td>null</td><td>@@rooneyr9618 foolish boy Srk is far more fanous and successful than her</td><td>qlSVTM-qX6g</td><td>Negative</td><td>The text explicitly calls rooneyr a foolish boy and implies a negative comparison with srk</td><td>6863e9e09084d306bdb9ebc9</td><td>MBP Media</td><td>DuaLipa meets SRK</td><td>https://i.ytimg.com/vi/qlSVTM-qX6g/default.jpg</td><td>MBP Media</td><td>2025-07-17T11:20:54.452Z</td></tr><tr><td>reply</td><td>@rooneyr9618</td><td>http://www.youtube.com/@rooneyr9618</td><td>https://yt3.ggpht.com/vhmdZV4j1z6WKR_ZJhZkGQ4GxkFDhnfoZ7fpEicB0gpsiWpMB2PxkBO8ITIBf6ZOKaeN4wFxgQ=s48-c-k-c0x00ffffff-no-rj</td><td>2021-09-14T06:15:14.000Z</td><td>1</td><td>null</td><td>@@RumailSaddique Foolish America is not the world Due is World famous for being so young SRK is very old</td><td>qlSVTM-qX6g</td><td>Negative</td><td>This text expresses a negative sentiment by criticizing SRK's age</td><td>6863e9e19084d306bdb9ebed</td><td>MBP Media</td><td>DuaLipa meets SRK</td><td>https://i.ytimg.com/vi/qlSVTM-qX6g/default.jpg</td><td>MBP Media</td><td>2025-07-17T11:20:54.452Z</td></tr><tr><td>reply</td><td>@LeviAckerman-fh1wd</td><td>http://www.youtube.com/@LeviAckerman-fh1wd</td><td>https://yt3.ggpht.com/BiiIPDyjyTV2XRfSIdpM47u8RQSOHkINA1evcdjsxxLN7Q4cFYf7ssK1KIhOtt3o9cKtDYCl=s48-c-k-c0x00ffffff-no-rj</td><td>2021-09-14T06:15:50.000Z</td><td>3</td><td>null</td><td>@@sourabbarman8891 Yes it can be possibly true. Tastes are subjective.</td><td>qlSVTM-qX6g</td><td>Neutral</td><td>The text states a fact about taste being subjective without expressing any positive or negative feelings</td><td>6863e9e59084d306bdb9ed52</td><td>MBP Media</td><td>DuaLipa meets SRK</td><td>https://i.ytimg.com/vi/qlSVTM-qX6g/default.jpg</td><td>MBP Media</td><td>2025-07-17T11:20:54.452Z</td></tr><tr><td>reply</td><td>@rooneyr9618</td><td>http://www.youtube.com/@rooneyr9618</td><td>https://yt3.ggpht.com/vhmdZV4j1z6WKR_ZJhZkGQ4GxkFDhnfoZ7fpEicB0gpsiWpMB2PxkBO8ITIBf6ZOKaeN4wFxgQ=s48-c-k-c0x00ffffff-no-rj</td><td>2021-09-14T06:17:18.000Z</td><td>0</td><td>null</td><td>@@Shreya433gt33 Indian logic If you are famous in India that means you are famous in the world \uD83D\uDE02\uD83D\uDE02</td><td>qlSVTM-qX6g</td><td>Negative</td><td>The text uses laughter emojis to mock the idea that fame in India equates to global fame</td><td>6863e9e19084d306bdb9ec16</td><td>MBP Media</td><td>DuaLipa meets SRK</td><td>https://i.ytimg.com/vi/qlSVTM-qX6g/default.jpg</td><td>MBP Media</td><td>2025-07-17T11:20:54.452Z</td></tr><tr><td>reply</td><td>@rooneyr9618</td><td>http://www.youtube.com/@rooneyr9618</td><td>https://yt3.ggpht.com/vhmdZV4j1z6WKR_ZJhZkGQ4GxkFDhnfoZ7fpEicB0gpsiWpMB2PxkBO8ITIBf6ZOKaeN4wFxgQ=s48-c-k-c0x00ffffff-no-rj</td><td>2021-09-14T06:18:11.000Z</td><td>0</td><td>null</td><td>@@daisy2633 Foolish u</td><td>qlSVTM-qX6g</td><td>Neutral</td><td>The text is incoherent and does not clearly express a positive or negative sentiment</td><td>6863e9e19084d306bdb9ec17</td><td>MBP Media</td><td>DuaLipa meets SRK</td><td>https://i.ytimg.com/vi/qlSVTM-qX6g/default.jpg</td><td>MBP Media</td><td>2025-07-17T11:20:54.452Z</td></tr><tr><td>reply</td><td>@Shreya433gt33</td><td>http://www.youtube.com/@Shreya433gt33</td><td>https://yt3.ggpht.com/J6e5qlBMcNHuyB-7zYbaQ1CzIRDjfXCJvpEjRXLdMuuQqrMyBF_ALOzikNqR3iGTLCHblloO=s48-c-k-c0x00ffffff-no-rj</td><td>2021-09-14T06:20:41.000Z</td><td>0</td><td>null</td><td>@@rooneyr9618 western logic if you are more famous then you are more richer \uD83D\uDE02</td><td>qlSVTM-qX6g</td><td>Neutral</td><td>The text presents a sarcastic observation about the relationship between fame and wealth using a laughing emoji indicating humor but not expressing a clear positive or negative emotion</td><td>6863e9e19084d306bdb9ec18</td><td>MBP Media</td><td>DuaLipa meets SRK</td><td>https://i.ytimg.com/vi/qlSVTM-qX6g/default.jpg</td><td>MBP Media</td><td>2025-07-17T11:20:54.452Z</td></tr><tr><td>reply</td><td>@devprasad5399</td><td>http://www.youtube.com/@devprasad5399</td><td>https://yt3.ggpht.com/3d-3aeTBCEZVPV0nGOG_eYMPBqm4agVa3S6vm3cP0fvQgEukdvwZiWaHjQDcvBJ5Pw4qOJa4ZQ=s48-c-k-c0x00ffffff-no-rj</td><td>2021-09-14T06:21:12.000Z</td><td>1</td><td>null</td><td>@@rooneyr9618 ತುಮ್ ಹಿಜ್ರೋ ಕಿ ಕೈಸೆ ಗಂಡ್ ಜಾಲಿ ಸಚ್ ಸುಂಕೆ \uD83E\uDD23\uD83E\uDD23Dua Lipa ಕೋಯಿ ಕುಟ್ಟ ಭೀ ನ್ಹಿ ಪುಚೆ.\uD83D\uDCA9Srk ಕೋ is ಲಡ್ಕಿ ಸೆ ಕೈ ಜ್ಯಾದ ಲಾಗ್ ಜಂತೇ\uD83D\uDE0E</td><td>qlSVTM-qX6g</td><td>Negative</td><td>The text contains derogatory language and insults Dua Lipa, expressing a negative sentiment</td><td>6863e9e09084d306bdb9eb51</td><td>MBP Media</td><td>DuaLipa meets SRK</td><td>https://i.ytimg.com/vi/qlSVTM-qX6g/default.jpg</td><td>MBP Media</td><td>2025-07-17T11:20:54.452Z</td></tr><tr><td>reply</td><td>@LeviAckerman-fh1wd</td><td>http://www.youtube.com/@LeviAckerman-fh1wd</td><td>https://yt3.ggpht.com/BiiIPDyjyTV2XRfSIdpM47u8RQSOHkINA1evcdjsxxLN7Q4cFYf7ssK1KIhOtt3o9cKtDYCl=s48-c-k-c0x00ffffff-no-rj</td><td>2021-09-14T06:22:14.000Z</td><td>1</td><td>null</td><td>@@rooneyr9618 So do you think everyone knows her shit.\uD83E\uDD21 Idc whether you hate him or not. You are not equivalent to whole world</td><td>qlSVTM-qX6g</td><td>Neutral</td><td>The text expresses disagreement with the assumption of universal knowledge and does not convey positive or negative feelings towards the singer</td><td>6863e9e09084d306bdb9eb52</td><td>MBP Media</td><td>DuaLipa meets SRK</td><td>https://i.ytimg.com/vi/qlSVTM-qX6g/default.jpg</td><td>MBP Media</td><td>2025-07-17T11:20:54.452Z</td></tr></tbody></table></div>"
      ]
     },
     "metadata": {
      "application/vnd.databricks.v1+output": {
       "addedWidgets": {},
       "aggData": [],
       "aggError": "",
       "aggOverflow": false,
       "aggSchema": [],
       "aggSeriesLimitReached": false,
       "aggType": "",
       "arguments": {},
       "columnCustomDisplayInfos": {},
       "data": [
        [
         "reply",
         "@LeviAckerman-fh1wd",
         "http://www.youtube.com/@LeviAckerman-fh1wd",
         "https://yt3.ggpht.com/BiiIPDyjyTV2XRfSIdpM47u8RQSOHkINA1evcdjsxxLN7Q4cFYf7ssK1KIhOtt3o9cKtDYCl=s48-c-k-c0x00ffffff-no-rj",
         "2021-09-14T06:13:34.000Z",
         3,
         null,
         "@@rooneyr9618 her stardom is nowhere close to Srk",
         "qlSVTM-qX6g",
         "Positive",
         "The text states Dua Lipa's stardom is less than SRK's, implying a positive sentiment towards SRK",
         "6863e9e09084d306bdb9eb78",
         "MBP Media",
         "DuaLipa meets SRK",
         "https://i.ytimg.com/vi/qlSVTM-qX6g/default.jpg",
         "MBP Media",
         "2025-07-17T11:20:54.452Z"
        ],
        [
         "reply",
         "@LeviAckerman-fh1wd",
         "http://www.youtube.com/@LeviAckerman-fh1wd",
         "https://yt3.ggpht.com/BiiIPDyjyTV2XRfSIdpM47u8RQSOHkINA1evcdjsxxLN7Q4cFYf7ssK1KIhOtt3o9cKtDYCl=s48-c-k-c0x00ffffff-no-rj",
         "2021-09-14T06:14:19.000Z",
         0,
         null,
         "@@rooneyr9618 LOL Srk was even far more successful at her age \uD83E\uDD23\uD83E\uDD23 she would not even cone close to his success",
         "qlSVTM-qX6g",
         "Negative",
         "The text belittles Dua Lipa's achievements and emphasizes SRK's greater success",
         "6863e9e09084d306bdb9ebc8",
         "MBP Media",
         "DuaLipa meets SRK",
         "https://i.ytimg.com/vi/qlSVTM-qX6g/default.jpg",
         "MBP Media",
         "2025-07-17T11:20:54.452Z"
        ],
        [
         "reply",
         "@LeviAckerman-fh1wd",
         "http://www.youtube.com/@LeviAckerman-fh1wd",
         "https://yt3.ggpht.com/BiiIPDyjyTV2XRfSIdpM47u8RQSOHkINA1evcdjsxxLN7Q4cFYf7ssK1KIhOtt3o9cKtDYCl=s48-c-k-c0x00ffffff-no-rj",
         "2021-09-14T06:15:01.000Z",
         0,
         null,
         "@@rooneyr9618 foolish boy Srk is far more fanous and successful than her",
         "qlSVTM-qX6g",
         "Negative",
         "The text explicitly calls rooneyr a foolish boy and implies a negative comparison with srk",
         "6863e9e09084d306bdb9ebc9",
         "MBP Media",
         "DuaLipa meets SRK",
         "https://i.ytimg.com/vi/qlSVTM-qX6g/default.jpg",
         "MBP Media",
         "2025-07-17T11:20:54.452Z"
        ],
        [
         "reply",
         "@rooneyr9618",
         "http://www.youtube.com/@rooneyr9618",
         "https://yt3.ggpht.com/vhmdZV4j1z6WKR_ZJhZkGQ4GxkFDhnfoZ7fpEicB0gpsiWpMB2PxkBO8ITIBf6ZOKaeN4wFxgQ=s48-c-k-c0x00ffffff-no-rj",
         "2021-09-14T06:15:14.000Z",
         1,
         null,
         "@@RumailSaddique Foolish America is not the world Due is World famous for being so young SRK is very old",
         "qlSVTM-qX6g",
         "Negative",
         "This text expresses a negative sentiment by criticizing SRK's age",
         "6863e9e19084d306bdb9ebed",
         "MBP Media",
         "DuaLipa meets SRK",
         "https://i.ytimg.com/vi/qlSVTM-qX6g/default.jpg",
         "MBP Media",
         "2025-07-17T11:20:54.452Z"
        ],
        [
         "reply",
         "@LeviAckerman-fh1wd",
         "http://www.youtube.com/@LeviAckerman-fh1wd",
         "https://yt3.ggpht.com/BiiIPDyjyTV2XRfSIdpM47u8RQSOHkINA1evcdjsxxLN7Q4cFYf7ssK1KIhOtt3o9cKtDYCl=s48-c-k-c0x00ffffff-no-rj",
         "2021-09-14T06:15:50.000Z",
         3,
         null,
         "@@sourabbarman8891 Yes it can be possibly true. Tastes are subjective.",
         "qlSVTM-qX6g",
         "Neutral",
         "The text states a fact about taste being subjective without expressing any positive or negative feelings",
         "6863e9e59084d306bdb9ed52",
         "MBP Media",
         "DuaLipa meets SRK",
         "https://i.ytimg.com/vi/qlSVTM-qX6g/default.jpg",
         "MBP Media",
         "2025-07-17T11:20:54.452Z"
        ],
        [
         "reply",
         "@rooneyr9618",
         "http://www.youtube.com/@rooneyr9618",
         "https://yt3.ggpht.com/vhmdZV4j1z6WKR_ZJhZkGQ4GxkFDhnfoZ7fpEicB0gpsiWpMB2PxkBO8ITIBf6ZOKaeN4wFxgQ=s48-c-k-c0x00ffffff-no-rj",
         "2021-09-14T06:17:18.000Z",
         0,
         null,
         "@@Shreya433gt33 Indian logic If you are famous in India that means you are famous in the world \uD83D\uDE02\uD83D\uDE02",
         "qlSVTM-qX6g",
         "Negative",
         "The text uses laughter emojis to mock the idea that fame in India equates to global fame",
         "6863e9e19084d306bdb9ec16",
         "MBP Media",
         "DuaLipa meets SRK",
         "https://i.ytimg.com/vi/qlSVTM-qX6g/default.jpg",
         "MBP Media",
         "2025-07-17T11:20:54.452Z"
        ],
        [
         "reply",
         "@rooneyr9618",
         "http://www.youtube.com/@rooneyr9618",
         "https://yt3.ggpht.com/vhmdZV4j1z6WKR_ZJhZkGQ4GxkFDhnfoZ7fpEicB0gpsiWpMB2PxkBO8ITIBf6ZOKaeN4wFxgQ=s48-c-k-c0x00ffffff-no-rj",
         "2021-09-14T06:18:11.000Z",
         0,
         null,
         "@@daisy2633 Foolish u",
         "qlSVTM-qX6g",
         "Neutral",
         "The text is incoherent and does not clearly express a positive or negative sentiment",
         "6863e9e19084d306bdb9ec17",
         "MBP Media",
         "DuaLipa meets SRK",
         "https://i.ytimg.com/vi/qlSVTM-qX6g/default.jpg",
         "MBP Media",
         "2025-07-17T11:20:54.452Z"
        ],
        [
         "reply",
         "@Shreya433gt33",
         "http://www.youtube.com/@Shreya433gt33",
         "https://yt3.ggpht.com/J6e5qlBMcNHuyB-7zYbaQ1CzIRDjfXCJvpEjRXLdMuuQqrMyBF_ALOzikNqR3iGTLCHblloO=s48-c-k-c0x00ffffff-no-rj",
         "2021-09-14T06:20:41.000Z",
         0,
         null,
         "@@rooneyr9618 western logic if you are more famous then you are more richer \uD83D\uDE02",
         "qlSVTM-qX6g",
         "Neutral",
         "The text presents a sarcastic observation about the relationship between fame and wealth using a laughing emoji indicating humor but not expressing a clear positive or negative emotion",
         "6863e9e19084d306bdb9ec18",
         "MBP Media",
         "DuaLipa meets SRK",
         "https://i.ytimg.com/vi/qlSVTM-qX6g/default.jpg",
         "MBP Media",
         "2025-07-17T11:20:54.452Z"
        ],
        [
         "reply",
         "@devprasad5399",
         "http://www.youtube.com/@devprasad5399",
         "https://yt3.ggpht.com/3d-3aeTBCEZVPV0nGOG_eYMPBqm4agVa3S6vm3cP0fvQgEukdvwZiWaHjQDcvBJ5Pw4qOJa4ZQ=s48-c-k-c0x00ffffff-no-rj",
         "2021-09-14T06:21:12.000Z",
         1,
         null,
         "@@rooneyr9618 ತುಮ್ ಹಿಜ್ರೋ ಕಿ ಕೈಸೆ ಗಂಡ್ ಜಾಲಿ ಸಚ್ ಸುಂಕೆ \uD83E\uDD23\uD83E\uDD23Dua Lipa ಕೋಯಿ ಕುಟ್ಟ ಭೀ ನ್ಹಿ ಪುಚೆ.\uD83D\uDCA9Srk ಕೋ is ಲಡ್ಕಿ ಸೆ ಕೈ ಜ್ಯಾದ ಲಾಗ್ ಜಂತೇ\uD83D\uDE0E",
         "qlSVTM-qX6g",
         "Negative",
         "The text contains derogatory language and insults Dua Lipa, expressing a negative sentiment",
         "6863e9e09084d306bdb9eb51",
         "MBP Media",
         "DuaLipa meets SRK",
         "https://i.ytimg.com/vi/qlSVTM-qX6g/default.jpg",
         "MBP Media",
         "2025-07-17T11:20:54.452Z"
        ],
        [
         "reply",
         "@LeviAckerman-fh1wd",
         "http://www.youtube.com/@LeviAckerman-fh1wd",
         "https://yt3.ggpht.com/BiiIPDyjyTV2XRfSIdpM47u8RQSOHkINA1evcdjsxxLN7Q4cFYf7ssK1KIhOtt3o9cKtDYCl=s48-c-k-c0x00ffffff-no-rj",
         "2021-09-14T06:22:14.000Z",
         1,
         null,
         "@@rooneyr9618 So do you think everyone knows her shit.\uD83E\uDD21 Idc whether you hate him or not. You are not equivalent to whole world",
         "qlSVTM-qX6g",
         "Neutral",
         "The text expresses disagreement with the assumption of universal knowledge and does not convey positive or negative feelings towards the singer",
         "6863e9e09084d306bdb9eb52",
         "MBP Media",
         "DuaLipa meets SRK",
         "https://i.ytimg.com/vi/qlSVTM-qX6g/default.jpg",
         "MBP Media",
         "2025-07-17T11:20:54.452Z"
        ]
       ],
       "datasetInfos": [
        {
         "name": "_sqldf",
         "schema": {
          "fields": [
           {
            "metadata": {},
            "name": "record_type",
            "nullable": true,
            "type": "string"
           },
           {
            "metadata": {},
            "name": "author",
            "nullable": true,
            "type": "string"
           },
           {
            "metadata": {},
            "name": "author_channel_url",
            "nullable": true,
            "type": "string"
           },
           {
            "metadata": {},
            "name": "author_profile_image_url",
            "nullable": true,
            "type": "string"
           },
           {
            "metadata": {},
            "name": "date",
            "nullable": true,
            "type": "timestamp"
           },
           {
            "metadata": {},
            "name": "like_count",
            "nullable": true,
            "type": "integer"
           },
           {
            "metadata": {},
            "name": "reply_count",
            "nullable": true,
            "type": "float"
           },
           {
            "metadata": {},
            "name": "text",
            "nullable": true,
            "type": "string"
           },
           {
            "metadata": {},
            "name": "video_id",
            "nullable": true,
            "type": "string"
           },
           {
            "metadata": {},
            "name": "cluster_sentiment",
            "nullable": true,
            "type": "string"
           },
           {
            "metadata": {},
            "name": "cluster_sentiment_reasoning",
            "nullable": true,
            "type": "string"
           },
           {
            "metadata": {},
            "name": "id",
            "nullable": true,
            "type": "string"
           },
           {
            "metadata": {},
            "name": "creator",
            "nullable": true,
            "type": "string"
           },
           {
            "metadata": {},
            "name": "video_title",
            "nullable": true,
            "type": "string"
           },
           {
            "metadata": {},
            "name": "video_thumbnail_url",
            "nullable": true,
            "type": "string"
           },
           {
            "metadata": {},
            "name": "channel_name",
            "nullable": true,
            "type": "string"
           },
           {
            "metadata": {},
            "name": "ingestion_timestamp",
            "nullable": true,
            "type": "timestamp"
           }
          ],
          "type": "struct"
         },
         "tableIdentifier": null,
         "typeStr": "pyspark.sql.connect.dataframe.DataFrame"
        }
       ],
       "dbfsResultPath": null,
       "isJsonSchema": true,
       "metadata": {
        "createTempViewForImplicitDf": true,
        "dataframeName": "_sqldf",
        "executionCount": 2
       },
       "overflow": false,
       "plotOptions": {
        "customPlotOptions": {},
        "displayType": "table",
        "pivotAggregation": null,
        "pivotColumns": null,
        "xColumns": null,
        "yColumns": null
       },
       "removedWidgets": [],
       "schema": [
        {
         "metadata": "{}",
         "name": "record_type",
         "type": "\"string\""
        },
        {
         "metadata": "{}",
         "name": "author",
         "type": "\"string\""
        },
        {
         "metadata": "{}",
         "name": "author_channel_url",
         "type": "\"string\""
        },
        {
         "metadata": "{}",
         "name": "author_profile_image_url",
         "type": "\"string\""
        },
        {
         "metadata": "{}",
         "name": "date",
         "type": "\"timestamp\""
        },
        {
         "metadata": "{}",
         "name": "like_count",
         "type": "\"integer\""
        },
        {
         "metadata": "{}",
         "name": "reply_count",
         "type": "\"float\""
        },
        {
         "metadata": "{}",
         "name": "text",
         "type": "\"string\""
        },
        {
         "metadata": "{}",
         "name": "video_id",
         "type": "\"string\""
        },
        {
         "metadata": "{}",
         "name": "cluster_sentiment",
         "type": "\"string\""
        },
        {
         "metadata": "{}",
         "name": "cluster_sentiment_reasoning",
         "type": "\"string\""
        },
        {
         "metadata": "{}",
         "name": "id",
         "type": "\"string\""
        },
        {
         "metadata": "{}",
         "name": "creator",
         "type": "\"string\""
        },
        {
         "metadata": "{}",
         "name": "video_title",
         "type": "\"string\""
        },
        {
         "metadata": "{}",
         "name": "video_thumbnail_url",
         "type": "\"string\""
        },
        {
         "metadata": "{}",
         "name": "channel_name",
         "type": "\"string\""
        },
        {
         "metadata": "{}",
         "name": "ingestion_timestamp",
         "type": "\"timestamp\""
        }
       ],
       "type": "table"
      }
     },
     "output_type": "display_data"
    }
   ],
   "source": [
    "%sql\n",
    "DESCRIBE TABLE youtube2.bronze.raw_api_data;\n",
    "SELECT * FROM youtube2.bronze.raw_api_data LIMIT 10;"
   ]
  },
  {
   "cell_type": "code",
   "execution_count": 0,
   "metadata": {
    "application/vnd.databricks.v1+cell": {
     "cellMetadata": {
      "byteLimit": 2048000,
      "rowLimit": 10000
     },
     "inputWidgets": {},
     "nuid": "655685fb-fe7d-4e5b-a045-e877dd2c24d9",
     "showTitle": false,
     "tableResultSettingsMap": {},
     "title": ""
    }
   },
   "outputs": [
    {
     "output_type": "execute_result",
     "data": {
      "text/plain": [
       "[FileInfo(path='dbfs:/Volumes/youtube2/bronze/volume1/api_data_20250717_111445.csv', name='api_data_20250717_111445.csv', size=6171324, modificationTime=1752750888000)]"
      ]
     },
     "execution_count": 3,
     "metadata": {},
     "output_type": "execute_result"
    }
   ],
   "source": [
    "dbutils.fs.ls(\"/Volumes/youtube2/bronze/volume1/\")"
   ]
  },
  {
   "cell_type": "code",
   "execution_count": 0,
   "metadata": {
    "application/vnd.databricks.v1+cell": {
     "cellMetadata": {
      "byteLimit": 2048000,
      "implicitDf": true,
      "rowLimit": 10000
     },
     "inputWidgets": {},
     "nuid": "70507327-addf-4b1f-b4c9-75c8d7dde7b7",
     "showTitle": false,
     "tableResultSettingsMap": {},
     "title": ""
    }
   },
   "outputs": [],
   "source": [
    "%sql\n",
    "CREATE SCHEMA IF NOT EXISTS youtube2.silver;"
   ]
  },
  {
   "cell_type": "code",
   "execution_count": 0,
   "metadata": {
    "application/vnd.databricks.v1+cell": {
     "cellMetadata": {
      "byteLimit": 2048000,
      "rowLimit": 10000
     },
     "inputWidgets": {},
     "nuid": "0a0c9bb2-60c4-44b3-8133-563d9e4c6d77",
     "showTitle": false,
     "tableResultSettingsMap": {},
     "title": ""
    }
   },
   "outputs": [
    {
     "output_type": "display_data",
     "data": {
      "text/plain": [
       "\u001B[0;36m  File \u001B[0;32m<command-6866021157531673>, line 1\u001B[0;36m\u001B[0m\n",
       "\u001B[0;31m    DROP TABLE youtube2.silver.cleaned_api_data;\u001B[0m\n",
       "\u001B[0m         ^\u001B[0m\n",
       "\u001B[0;31mSyntaxError\u001B[0m\u001B[0;31m:\u001B[0m invalid syntax\n"
      ]
     },
     "metadata": {
      "application/vnd.databricks.v1+output": {
       "addedWidgets": {},
       "arguments": {},
       "datasetInfos": [],
       "jupyterProps": {
        "ename": "SyntaxError",
        "evalue": "invalid syntax (command-6866021157531673-220430423, line 1)"
       },
       "metadata": {
        "errorSummary": "<span class='ansi-red-fg'>SyntaxError</span>: invalid syntax (command-6866021157531673-220430423, line 1)"
       },
       "removedWidgets": [],
       "sqlProps": null,
       "stackFrames": [
        "\u001B[0;36m  File \u001B[0;32m<command-6866021157531673>, line 1\u001B[0;36m\u001B[0m\n\u001B[0;31m    DROP TABLE youtube2.silver.cleaned_api_data;\u001B[0m\n\u001B[0m         ^\u001B[0m\n\u001B[0;31mSyntaxError\u001B[0m\u001B[0;31m:\u001B[0m invalid syntax\n"
       ],
       "type": "baseError"
      }
     },
     "output_type": "display_data"
    }
   ],
   "source": [
    "DROP TABLE youtube2.silver.cleaned_api_data;"
   ]
  },
  {
   "cell_type": "code",
   "execution_count": 0,
   "metadata": {
    "application/vnd.databricks.v1+cell": {
     "cellMetadata": {},
     "inputWidgets": {},
     "nuid": "47da5830-aaa4-4719-a41d-06f1f7687b7e",
     "showTitle": false,
     "tableResultSettingsMap": {},
     "title": ""
    }
   },
   "outputs": [],
   "source": []
  }
 ],
 "metadata": {
  "application/vnd.databricks.v1+notebook": {
   "computePreferences": null,
   "dashboards": [],
   "environmentMetadata": {
    "base_environment": "",
    "environment_version": "2"
   },
   "inputWidgetPreferences": null,
   "language": "python",
   "notebookMetadata": {
    "mostRecentlyExecutedCommandWithImplicitDF": {
     "commandId": 6866021157531667,
     "dataframes": [
      "_sqldf"
     ]
    },
    "pythonIndentUnit": 4
   },
   "notebookName": "testing_notebook",
   "widgets": {}
  },
  "language_info": {
   "name": "python"
  }
 },
 "nbformat": 4,
 "nbformat_minor": 0
}